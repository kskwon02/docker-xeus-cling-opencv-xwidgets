{
 "cells": [
  {
   "cell_type": "markdown",
   "metadata": {},
   "source": [
    "# Magic with OpenCV and xwidges running in Jupyter Notebook (xeus-cling kernel)\n",
    "\n",
    "[Inspiration from the xwidgets binder](https://mybinder.org/v2/gh/jupyter-xeus/xwidgets/stable?filepath=notebooks/xwidgets.ipynb)"
   ]
  },
  {
   "cell_type": "code",
   "execution_count": 1,
   "metadata": {},
   "outputs": [],
   "source": [
    "#include <jupyter/opencv>\n",
    "#include <opencv2/core.hpp>\n",
    "#include <opencv2/imgproc.hpp>\n",
    "\n",
    "using namespace cv;"
   ]
  },
  {
   "cell_type": "code",
   "execution_count": 2,
   "metadata": {},
   "outputs": [],
   "source": [
    "inline bool isPowerOf2(const size_t _Value) {\n",
    "    return (_Value != 0 && (_Value & (_Value - 1)) == 0);\n",
    "}\n"
   ]
  },
  {
   "cell_type": "code",
   "execution_count": 3,
   "metadata": {},
   "outputs": [],
   "source": [
    "inline void shiftFromCornerToCenter(cv::Mat& src) {\n",
    "    CV_Assert_2((src.cols & 1) == 0, (src.rows & 1) == 0);\n",
    "    int halfWidth = src.cols / 2;\n",
    "    int halfHeight = src.rows / 2;\n",
    "    cv::Mat leftTop = src(cv::Rect(0, 0, halfWidth, halfHeight));\n",
    "    cv::Mat rightTop = src(cv::Rect(halfWidth, 0, halfWidth, halfHeight));\n",
    "    cv::Mat leftBottom = src(cv::Rect(0, halfHeight, halfWidth, halfHeight));\n",
    "    cv::Mat rightBottom = src(cv::Rect(halfWidth, halfHeight, halfWidth, halfHeight));\n",
    "    cv::Mat temp;\n",
    "    // Swap leftTop with rightBottom\n",
    "    rightBottom.copyTo(temp);\n",
    "    leftTop.copyTo(rightBottom);\n",
    "    temp.copyTo(leftTop);\n",
    "    // Swap rightTop with leftBottom\n",
    "    rightTop.copyTo(temp);\n",
    "    leftBottom.copyTo(rightTop);\n",
    "    temp.copyTo(leftBottom);\n",
    "}\n"
   ]
  },
  {
   "cell_type": "code",
   "execution_count": 4,
   "metadata": {},
   "outputs": [],
   "source": [
    "inline cv::Mat makeRGB(const cv::Mat& image) {\n",
    "    if (image.type() == CV_8UC3) {\n",
    "        return image;\n",
    "    }\n",
    "\n",
    "    cv::Mat rgbImage;\n",
    "    if (image.type() == CV_8UC1) {\n",
    "        cvtColor(image, rgbImage, cv::COLOR_GRAY2RGB);\n",
    "    }\n",
    "    else if (image.type() == CV_32FC1) {\n",
    "        image.convertTo(rgbImage, CV_8U, 255.0);\n",
    "        cvtColor(rgbImage, rgbImage, cv::COLOR_GRAY2RGB);\n",
    "    }\n",
    "    return rgbImage;\n",
    "}\n"
   ]
  },
  {
   "cell_type": "code",
   "execution_count": 5,
   "metadata": {},
   "outputs": [],
   "source": [
    "inline cv::Mat dftFilter(const cv::Mat& src, const cv::Mat& filter) {\n",
    "    CV_Assert(src.size() == filter.size());\n",
    "    CV_Assert_2(isPowerOf2(src.cols), isPowerOf2(filter.rows));\n",
    "    CV_Assert_2(src.type() == CV_32F, filter.type() == CV_32F);\n",
    "\n",
    "    cv::Mat matWithZeroes = cv::Mat::zeros(src.size(), CV_32F);\n",
    "    cv::Mat complexInput1, complexOutput1;\n",
    "    {\n",
    "        cv::Mat planes[] = { src,  matWithZeroes };\n",
    "        merge(planes, 2, complexInput1);\n",
    "    }\n",
    "    dft(complexInput1, complexOutput1, cv::DFT_SCALE | cv::DFT_COMPLEX_OUTPUT | cv::DFT_COMPLEX_INPUT);\n",
    "\n",
    "    cv::Mat\tcomplexFilter;\n",
    "    {\n",
    "        cv::Mat planes[] = { filter,  filter };\n",
    "        merge(planes, 2, complexFilter);\n",
    "    }\n",
    "\n",
    "    shiftFromCornerToCenter(complexFilter);\n",
    "\n",
    "    cv::Mat frequencyDomainResult(src.size(), CV_32FC2);\n",
    "    mulSpectrums(complexOutput1, complexFilter, frequencyDomainResult, 0);\n",
    "\n",
    "    cv::Mat finalImage;\n",
    "    idft(frequencyDomainResult, finalImage, cv::DFT_COMPLEX_OUTPUT);\n",
    "\n",
    "    // Calculate the magnitude\n",
    "    {\n",
    "        cv::Mat planes[] = { cv::Mat(finalImage.size(), CV_32F), cv::Mat(finalImage.size(), CV_32F) };\n",
    "        split(finalImage, planes);                   // planes[0] = Re(DFT(I), planes[1] = Im(DFT(I))\n",
    "        magnitude(planes[0], planes[1], finalImage); // finalImage = magnitude\n",
    "    }\n",
    "    \n",
    "    return finalImage;\n",
    "}\n"
   ]
  },
  {
   "cell_type": "code",
   "execution_count": 6,
   "metadata": {},
   "outputs": [],
   "source": [
    "inline void displayImages(const Mat& img1, const Mat& img2) {\n",
    "    const int border = 10;\n",
    "    Size canvasSize(img1.cols + img2.cols + border, max(img1.rows, img2.rows));\n",
    "    cv::Mat canvas(canvasSize, CV_8UC3);\n",
    "    canvas.setTo(Scalar::all(255));\n",
    "\n",
    "    cv::Mat rgbImage = makeRGB(img1);\n",
    "    rgbImage.copyTo(canvas(Rect(0, 0, img1.cols, img1.rows)));\n",
    "    rgbImage = makeRGB(img2);\n",
    "\n",
    "    rgbImage.copyTo(canvas(Rect(img1.cols + border, 0, img2.cols, img2.rows)));\n",
    "    im::mat_show(canvas);\n",
    "}"
   ]
  },
  {
   "cell_type": "code",
   "execution_count": 7,
   "metadata": {},
   "outputs": [],
   "source": [
    "#include <jupyter/opencv>\n",
    "#include <opencv2/core.hpp>\n",
    "#include <opencv2/imgproc.hpp>\n",
    "\n",
    "const int imageSize = 1024;\n",
    "\n",
    "Mat hummingbirdImage = imread(\"hb_1024.png\", IMREAD_GRAYSCALE);\n",
    "hummingbirdImage.convertTo(hummingbirdImage, CV_32FC1, 1.0 / 255.0);\n",
    "resize(hummingbirdImage, hummingbirdImage, Size(imageSize, imageSize));"
   ]
  },
  {
   "cell_type": "markdown",
   "metadata": {},
   "source": [
    "## $$ f_k = \\sum_{n=0}^{N-1}{s_n\\cdot e^{-ikn\\frac{2\\pi}{N}}} = \\sum_{n=0}^{N-1}{s_n[cos(kn{\\frac{2\\pi}{N}}) -i\\cdot sin(kn{\\frac{2\\pi}{N}})]}$$"
   ]
  },
  {
   "cell_type": "markdown",
   "metadata": {},
   "source": [
    "# An interactive demonstration of image filtering with Discrete Fourier Transform\n",
    "Select below the range of frequencies to be kept and click **Update**"
   ]
  },
  {
   "cell_type": "code",
   "execution_count": 8,
   "metadata": {
    "scrolled": false
   },
   "outputs": [],
   "source": [
    "#include \"xwidgets/xoutput.hpp\"\n",
    "\n",
    "xw::output out;"
   ]
  },
  {
   "cell_type": "code",
   "execution_count": 9,
   "metadata": {},
   "outputs": [],
   "source": [
    "#include \"xwidgets/xslider.hpp\"\n",
    "\n",
    "xw::slider<double> slider_01;\n",
    "slider_01.max = 100;\n",
    "slider_01.value = 16;\n",
    "slider_01.style().handle_color = \"blue\";\n",
    "slider_01.orientation = \"horizontal\";\n",
    "slider_01.description = \"Radius\";"
   ]
  },
  {
   "cell_type": "code",
   "execution_count": 10,
   "metadata": {},
   "outputs": [],
   "source": [
    "#include \"xwidgets/xbutton.hpp\"\n",
    "\n",
    "xw::button bt_01;\n",
    "bt_01.description = \"Update\";"
   ]
  },
  {
   "cell_type": "code",
   "execution_count": 11,
   "metadata": {},
   "outputs": [
    {
     "data": {
      "application/vnd.jupyter.widget-view+json": {
       "model_id": "c92c798da63a4167a6f13aea6219b3b6",
       "version_major": 2,
       "version_minor": 0
      },
      "text/plain": [
       "A Jupyter widget with unique id: c92c798da63a4167a6f13aea6219b3b6"
      ]
     },
     "metadata": {},
     "output_type": "display_data"
    }
   ],
   "source": [
    "#include <xcpp/xdisplay.hpp>\n",
    "\n",
    "{\n",
    "    using namespace cv;\n",
    "    \n",
    "    auto func = [&](){\n",
    "        // Using a scope guard to enable output capture\n",
    "        auto g = out.guard();\n",
    "        // Clear the previous output\n",
    "        xcpp::clear_output();\n",
    "\n",
    "        Mat filter = Mat::zeros(hummingbirdImage.size(), CV_32F);\n",
    "        double radius = slider_01.value();\n",
    "        \n",
    "        circle(filter, Point(filter.cols/2, filter.rows/2), radius, Scalar::all(1.0), -1, 8, 0);\n",
    "        Mat filteredImage = dftFilter(hummingbirdImage, filter);\n",
    "        displayImages(filter, filteredImage);\n",
    "        \n",
    "        xcpp::display(slider_01);\n",
    "        xcpp::display(bt_01);\n",
    "    };\n",
    "    \n",
    "    bt_01.on_click(func);\n",
    "    \n",
    "    func();\n",
    "}\n",
    "\n",
    "xcpp::display(out);"
   ]
  },
  {
   "cell_type": "code",
   "execution_count": null,
   "metadata": {},
   "outputs": [],
   "source": []
  }
 ],
 "metadata": {
  "kernelspec": {
   "display_name": "C++14",
   "language": "C++14",
   "name": "xcpp14"
  },
  "language_info": {
   "codemirror_mode": "text/x-c++src",
   "file_extension": ".cpp",
   "mimetype": "text/x-c++src",
   "name": "c++",
   "version": "14"
  }
 },
 "nbformat": 4,
 "nbformat_minor": 4
}
